{
  "nbformat": 4,
  "nbformat_minor": 0,
  "metadata": {
    "colab": {
      "provenance": []
    },
    "kernelspec": {
      "name": "python3",
      "display_name": "Python 3"
    },
    "language_info": {
      "name": "python"
    }
  },
  "cells": [
    {
      "cell_type": "code",
      "execution_count": 211,
      "metadata": {
        "id": "Vu0yd80lqLOQ"
      },
      "outputs": [],
      "source": [
        "import random\n",
        "suits = ('Hearts', 'Diamonds', 'Spades', 'Clubs')\n",
        "ranks = ('Two', 'Three', 'Four', 'Five', 'Six', 'Seven', 'Eight', 'Nine', 'Ten', 'Jack', 'Queen', 'King', 'Ace')\n",
        "values = {'Two':2, 'Three':3, 'Four':4, 'Five':5, 'Six':6, 'Seven':7, 'Eight':8,\n",
        "            'Nine':9, 'Ten':10, 'Jack':11, 'Queen':12, 'King':13, 'Ace':14}"
      ]
    },
    {
      "cell_type": "code",
      "source": [
        "class Card:\n",
        "\n",
        "    def __init__(self,suit,rank):\n",
        "        self.suit = suit\n",
        "        self.rank = rank\n",
        "        self.value = values[rank]\n",
        "\n",
        "    def __str__(self):\n",
        "        return self.rank + ' of ' + self.suit"
      ],
      "metadata": {
        "id": "GqOzF7fgqvj1"
      },
      "execution_count": 212,
      "outputs": []
    },
    {
      "cell_type": "code",
      "source": [
        "two_hearts = Card(suits[0],ranks[0])"
      ],
      "metadata": {
        "id": "lKldxzjuq66q"
      },
      "execution_count": 213,
      "outputs": []
    },
    {
      "cell_type": "code",
      "source": [
        "print(two_hearts)"
      ],
      "metadata": {
        "colab": {
          "base_uri": "https://localhost:8080/"
        },
        "id": "S6ifHnAPq_lB",
        "outputId": "c8cdbd0f-933c-4448-fe53-049caff14181"
      },
      "execution_count": 214,
      "outputs": [
        {
          "output_type": "stream",
          "name": "stdout",
          "text": [
            "Two of Hearts\n"
          ]
        }
      ]
    },
    {
      "cell_type": "code",
      "source": [
        "print(two_hearts.rank)"
      ],
      "metadata": {
        "colab": {
          "base_uri": "https://localhost:8080/"
        },
        "id": "NUGeEkl2rDCY",
        "outputId": "1812d7e9-0452-4204-aeeb-bfa4374e012b"
      },
      "execution_count": 215,
      "outputs": [
        {
          "output_type": "stream",
          "name": "stdout",
          "text": [
            "Two\n"
          ]
        }
      ]
    },
    {
      "cell_type": "code",
      "source": [
        "class Deck:\n",
        "\n",
        "    def __init__(self):\n",
        "\n",
        "        self.all_cards = []\n",
        "        for suit in suits:\n",
        "            for rank in ranks:\n",
        "                self.all_cards.append(Card(suit,rank))\n",
        "\n",
        "    def shuffle(self):\n",
        "        random.shuffle(self.all_cards)\n",
        "\n",
        "    def deal_one(self):\n",
        "        return self.all_cards.pop()"
      ],
      "metadata": {
        "id": "ztoQzSlsrFoK"
      },
      "execution_count": 216,
      "outputs": []
    },
    {
      "cell_type": "code",
      "source": [
        "mydeck = Deck()"
      ],
      "metadata": {
        "id": "rXYelMN1rWqx"
      },
      "execution_count": 217,
      "outputs": []
    },
    {
      "cell_type": "code",
      "source": [
        "len(mydeck.all_cards)"
      ],
      "metadata": {
        "colab": {
          "base_uri": "https://localhost:8080/"
        },
        "id": "JScXkk2crhnQ",
        "outputId": "ab8ca4be-8614-4f64-d58f-87082712e5da"
      },
      "execution_count": 218,
      "outputs": [
        {
          "output_type": "execute_result",
          "data": {
            "text/plain": [
              "52"
            ]
          },
          "metadata": {},
          "execution_count": 218
        }
      ]
    },
    {
      "cell_type": "code",
      "source": [
        "mydeck.shuffle()"
      ],
      "metadata": {
        "id": "RbOI-pFrrkK3"
      },
      "execution_count": 219,
      "outputs": []
    },
    {
      "cell_type": "code",
      "source": [
        "my_card = mydeck.deal_one()"
      ],
      "metadata": {
        "id": "gs32ySwxrsxl"
      },
      "execution_count": 220,
      "outputs": []
    },
    {
      "cell_type": "code",
      "source": [
        "print(my_card)"
      ],
      "metadata": {
        "colab": {
          "base_uri": "https://localhost:8080/"
        },
        "id": "DHgoCBCgryH2",
        "outputId": "4e467141-2d4f-48f7-fcd2-f9598b060ac8"
      },
      "execution_count": 221,
      "outputs": [
        {
          "output_type": "stream",
          "name": "stdout",
          "text": [
            "Two of Spades\n"
          ]
        }
      ]
    },
    {
      "cell_type": "code",
      "source": [
        "class Player:\n",
        "\n",
        "    def __init__(self,name):\n",
        "        self.name = name\n",
        "        self.all_cards = []\n",
        "\n",
        "    def remove_one(self):\n",
        "        return self.all_cards.pop(0)\n",
        "\n",
        "    def add_cards(self,new_cards):\n",
        "        if type(new_cards) == type([]):\n",
        "            self.all_cards.extend(new_cards)\n",
        "        else:\n",
        "            self.all_cards.append(new_cards)\n",
        "\n",
        "\n",
        "    def __str__(self):\n",
        "        return f'Player {self.name} has {len(self.all_cards)} cards.'"
      ],
      "metadata": {
        "id": "-18EhyBbrza-"
      },
      "execution_count": 222,
      "outputs": []
    },
    {
      "cell_type": "code",
      "source": [
        "sujay = Player(\"Sujay\")"
      ],
      "metadata": {
        "id": "ITYPcH94sGfE"
      },
      "execution_count": 223,
      "outputs": []
    },
    {
      "cell_type": "code",
      "source": [
        "print(sujay)"
      ],
      "metadata": {
        "colab": {
          "base_uri": "https://localhost:8080/"
        },
        "id": "BfnM9pbUsMWE",
        "outputId": "7b17f5c0-898b-48d5-cc8d-353e58bf45b8"
      },
      "execution_count": 224,
      "outputs": [
        {
          "output_type": "stream",
          "name": "stdout",
          "text": [
            "Player Sujay has 0 cards.\n"
          ]
        }
      ]
    },
    {
      "cell_type": "code",
      "source": [
        "sujay.add_cards(two_hearts)"
      ],
      "metadata": {
        "id": "vYlA7eoxsN-K"
      },
      "execution_count": 225,
      "outputs": []
    },
    {
      "cell_type": "code",
      "source": [
        "print(sujay)"
      ],
      "metadata": {
        "colab": {
          "base_uri": "https://localhost:8080/"
        },
        "id": "wywmDNFXsWd0",
        "outputId": "b5fcbb3a-259f-4c16-d8f8-8ff6ac56e4c2"
      },
      "execution_count": 226,
      "outputs": [
        {
          "output_type": "stream",
          "name": "stdout",
          "text": [
            "Player Sujay has 1 cards.\n"
          ]
        }
      ]
    },
    {
      "cell_type": "code",
      "source": [
        "sujay.add_cards([two_hearts,two_hearts,two_hearts])"
      ],
      "metadata": {
        "id": "Ukweuq_TsaoS"
      },
      "execution_count": 227,
      "outputs": []
    },
    {
      "cell_type": "code",
      "source": [
        "print(sujay)"
      ],
      "metadata": {
        "colab": {
          "base_uri": "https://localhost:8080/"
        },
        "id": "umHGiFyQsfPh",
        "outputId": "7ed0c82e-0509-4118-bf35-5fe055b21f1f"
      },
      "execution_count": 228,
      "outputs": [
        {
          "output_type": "stream",
          "name": "stdout",
          "text": [
            "Player Sujay has 4 cards.\n"
          ]
        }
      ]
    },
    {
      "cell_type": "code",
      "source": [
        "player_one = Player(\"One\")"
      ],
      "metadata": {
        "id": "_isjsd0EsoHI"
      },
      "execution_count": 229,
      "outputs": []
    },
    {
      "cell_type": "code",
      "source": [
        "player_two = Player('Two')"
      ],
      "metadata": {
        "id": "FFsl7ggdsrJJ"
      },
      "execution_count": 230,
      "outputs": []
    },
    {
      "cell_type": "code",
      "source": [
        "new_deck = Deck()"
      ],
      "metadata": {
        "id": "xGYpYNMCstxh"
      },
      "execution_count": 231,
      "outputs": []
    },
    {
      "cell_type": "code",
      "source": [
        "new_deck.shuffle()"
      ],
      "metadata": {
        "id": "7G3t4HmfsywQ"
      },
      "execution_count": 232,
      "outputs": []
    },
    {
      "cell_type": "code",
      "source": [
        "len(new_deck.all_cards)/2"
      ],
      "metadata": {
        "colab": {
          "base_uri": "https://localhost:8080/"
        },
        "id": "Nr-Pdk9vs1Ax",
        "outputId": "4b440de6-7836-4c45-b776-46b8dedef059"
      },
      "execution_count": 233,
      "outputs": [
        {
          "output_type": "execute_result",
          "data": {
            "text/plain": [
              "26.0"
            ]
          },
          "metadata": {},
          "execution_count": 233
        }
      ]
    },
    {
      "cell_type": "code",
      "source": [
        "for x in range(26):\n",
        "    player_one.add_cards(new_deck.deal_one())\n",
        "    player_two.add_cards(new_deck.deal_one())"
      ],
      "metadata": {
        "id": "pwt4Jzfcs39h"
      },
      "execution_count": 234,
      "outputs": []
    },
    {
      "cell_type": "code",
      "source": [
        "len(player_one.all_cards)"
      ],
      "metadata": {
        "colab": {
          "base_uri": "https://localhost:8080/"
        },
        "id": "v0L6P8nktBiX",
        "outputId": "df0cf464-fa3a-4567-c621-8f1b9c9d4bbe"
      },
      "execution_count": 235,
      "outputs": [
        {
          "output_type": "execute_result",
          "data": {
            "text/plain": [
              "26"
            ]
          },
          "metadata": {},
          "execution_count": 235
        }
      ]
    },
    {
      "cell_type": "code",
      "source": [
        "len(player_two.all_cards)"
      ],
      "metadata": {
        "colab": {
          "base_uri": "https://localhost:8080/"
        },
        "id": "pgx9B2_ytE_3",
        "outputId": "c52687b9-5366-4fd1-dab7-ea648d2930db"
      },
      "execution_count": 236,
      "outputs": [
        {
          "output_type": "execute_result",
          "data": {
            "text/plain": [
              "26"
            ]
          },
          "metadata": {},
          "execution_count": 236
        }
      ]
    },
    {
      "cell_type": "code",
      "source": [
        "import pdb"
      ],
      "metadata": {
        "id": "uA8cBC4WtG21"
      },
      "execution_count": 237,
      "outputs": []
    },
    {
      "cell_type": "code",
      "source": [
        "player_one = Player(\"One\")\n",
        "player_two = Player(\"Two\")\n",
        "\n",
        "new_deck = Deck()\n",
        "new_deck.shuffle()\n",
        "\n",
        "for x in range(26):\n",
        "    player_one.add_cards(new_deck.deal_one())\n",
        "    player_two.add_cards(new_deck.deal_one())\n",
        "\n",
        "game_on = True"
      ],
      "metadata": {
        "id": "lJ4fvWc3t9Sa"
      },
      "execution_count": 238,
      "outputs": []
    },
    {
      "cell_type": "code",
      "source": [
        "round_num = 0\n",
        "while game_on:\n",
        "\n",
        "    round_num += 1\n",
        "    print(f\"Round {round_num}\")\n",
        "\n",
        "\n",
        "    if len(player_one.all_cards) == 0:\n",
        "        print(\"Player One out of cards! Game Over\")\n",
        "        print(\"Player Two Wins!\")\n",
        "        game_on = False\n",
        "        break\n",
        "\n",
        "    if len(player_two.all_cards) == 0:\n",
        "        print(\"Player Two out of cards! Game Over\")\n",
        "        print(\"Player One Wins!\")\n",
        "        game_on = False\n",
        "        break\n",
        "\n",
        "\n",
        "    player_one_cards = []\n",
        "    player_one_cards.append(player_one.remove_one())\n",
        "\n",
        "    player_two_cards = []\n",
        "    player_two_cards.append(player_two.remove_one())\n",
        "\n",
        "    at_war = True\n",
        "\n",
        "    while at_war:\n",
        "\n",
        "\n",
        "        if player_one_cards[-1].value > player_two_cards[-1].value:\n",
        "\n",
        "\n",
        "            player_one.add_cards(player_one_cards)\n",
        "            player_one.add_cards(player_two_cards)\n",
        "\n",
        "\n",
        "            at_war = False\n",
        "\n",
        "        elif player_one_cards[-1].value < player_two_cards[-1].value:\n",
        "\n",
        "            player_two.add_cards(player_one_cards)\n",
        "            player_two.add_cards(player_two_cards)\n",
        "\n",
        "            at_war = False\n",
        "\n",
        "        else:\n",
        "            print('WAR!')\n",
        "\n",
        "            if len(player_one.all_cards) < 6:\n",
        "                print(\"Player One unable to play war! Game Over at War\")\n",
        "                print(\"Player Two Wins! Player One Loses!\")\n",
        "                game_on = False\n",
        "                break\n",
        "\n",
        "            elif len(player_two.all_cards) < 6:\n",
        "                print(\"Player Two unable to play war! Game Over at War\")\n",
        "                print(\"Player One Wins! Player Two Loses!\")\n",
        "                game_on = False\n",
        "                break\n",
        "\n",
        "            else:\n",
        "                for num in range(6):\n",
        "                    player_one_cards.append(player_one.remove_one())\n",
        "                    player_two_cards.append(player_two.remove_one())\n"
      ],
      "metadata": {
        "colab": {
          "base_uri": "https://localhost:8080/"
        },
        "id": "mNQU7HmfuEj2",
        "outputId": "e6ddc012-b9be-4d61-c03a-97f8a065d8d2"
      },
      "execution_count": 239,
      "outputs": [
        {
          "output_type": "stream",
          "name": "stdout",
          "text": [
            "Round 1\n",
            "Round 2\n",
            "Round 3\n",
            "Round 4\n",
            "Round 5\n",
            "Round 6\n",
            "Round 7\n",
            "Round 8\n",
            "Round 9\n",
            "Round 10\n",
            "WAR!\n",
            "Round 11\n",
            "Round 12\n",
            "Round 13\n",
            "Round 14\n",
            "WAR!\n",
            "Round 15\n",
            "Round 16\n",
            "Round 17\n",
            "Round 18\n",
            "Round 19\n",
            "Round 20\n",
            "Round 21\n",
            "Round 22\n",
            "Round 23\n",
            "Round 24\n",
            "Round 25\n",
            "Round 26\n",
            "Round 27\n",
            "Round 28\n",
            "Round 29\n",
            "Round 30\n",
            "Round 31\n",
            "Round 32\n",
            "Round 33\n",
            "Round 34\n",
            "Round 35\n",
            "Round 36\n",
            "Round 37\n",
            "Round 38\n",
            "Round 39\n",
            "Round 40\n",
            "Round 41\n",
            "Round 42\n",
            "Round 43\n",
            "Round 44\n",
            "Round 45\n",
            "Round 46\n",
            "Round 47\n",
            "Round 48\n",
            "Round 49\n",
            "Round 50\n",
            "Round 51\n",
            "Round 52\n",
            "Round 53\n",
            "Round 54\n",
            "Round 55\n",
            "Round 56\n",
            "Round 57\n",
            "Round 58\n",
            "Round 59\n",
            "Round 60\n",
            "Round 61\n",
            "Round 62\n",
            "Round 63\n",
            "Round 64\n",
            "Round 65\n",
            "Round 66\n",
            "Round 67\n",
            "Round 68\n",
            "Round 69\n",
            "Round 70\n",
            "Round 71\n",
            "Round 72\n",
            "Round 73\n",
            "Round 74\n",
            "Round 75\n",
            "Round 76\n",
            "Round 77\n",
            "Round 78\n",
            "Round 79\n",
            "Round 80\n",
            "Round 81\n",
            "Round 82\n",
            "Round 83\n",
            "Round 84\n",
            "WAR!\n",
            "Round 85\n",
            "Round 86\n",
            "Round 87\n",
            "Round 88\n",
            "Round 89\n",
            "Round 90\n",
            "WAR!\n",
            "Round 91\n",
            "Round 92\n",
            "Round 93\n",
            "Round 94\n",
            "Round 95\n",
            "Round 96\n",
            "Round 97\n",
            "Round 98\n",
            "Round 99\n",
            "Round 100\n",
            "Round 101\n",
            "Round 102\n",
            "Round 103\n",
            "Round 104\n",
            "WAR!\n",
            "Round 105\n",
            "Round 106\n",
            "Round 107\n",
            "Round 108\n",
            "Round 109\n",
            "Round 110\n",
            "Round 111\n",
            "Round 112\n",
            "Round 113\n",
            "Round 114\n",
            "Round 115\n",
            "Round 116\n",
            "WAR!\n",
            "Round 117\n",
            "Round 118\n",
            "Round 119\n",
            "Round 120\n",
            "Round 121\n",
            "Round 122\n",
            "Round 123\n",
            "Round 124\n",
            "Round 125\n",
            "Round 126\n",
            "Round 127\n",
            "Round 128\n",
            "Round 129\n",
            "Round 130\n",
            "Round 131\n",
            "Round 132\n",
            "Round 133\n",
            "Round 134\n",
            "Round 135\n",
            "Round 136\n",
            "Round 137\n",
            "Round 138\n",
            "Round 139\n",
            "Round 140\n",
            "Round 141\n",
            "Round 142\n",
            "Round 143\n",
            "Round 144\n",
            "Round 145\n",
            "WAR!\n",
            "Player One unable to play war! Game Over at War\n",
            "Player Two Wins! Player One Loses!\n"
          ]
        }
      ]
    },
    {
      "cell_type": "code",
      "source": [
        "len(player_one.all_cards)"
      ],
      "metadata": {
        "colab": {
          "base_uri": "https://localhost:8080/"
        },
        "id": "2_FlJf7WtSom",
        "outputId": "47b3cf97-29f5-4b12-e2cc-8c6630f78d73"
      },
      "execution_count": 240,
      "outputs": [
        {
          "output_type": "execute_result",
          "data": {
            "text/plain": [
              "5"
            ]
          },
          "metadata": {},
          "execution_count": 240
        }
      ]
    },
    {
      "cell_type": "code",
      "source": [
        "len(player_two.all_cards)"
      ],
      "metadata": {
        "colab": {
          "base_uri": "https://localhost:8080/"
        },
        "id": "MKayAdB7tvs7",
        "outputId": "aa279170-3e20-48a9-bcc2-6b6aee36986d"
      },
      "execution_count": 241,
      "outputs": [
        {
          "output_type": "execute_result",
          "data": {
            "text/plain": [
              "45"
            ]
          },
          "metadata": {},
          "execution_count": 241
        }
      ]
    },
    {
      "cell_type": "code",
      "source": [
        "print(player_one.all_cards[-1])"
      ],
      "metadata": {
        "colab": {
          "base_uri": "https://localhost:8080/"
        },
        "id": "KqatzTDitxjc",
        "outputId": "b6048fa8-438f-439b-8418-fdc9a4992d80"
      },
      "execution_count": 242,
      "outputs": [
        {
          "output_type": "stream",
          "name": "stdout",
          "text": [
            "Six of Clubs\n"
          ]
        }
      ]
    },
    {
      "cell_type": "code",
      "source": [
        "print(player_two.all_cards[-1])"
      ],
      "metadata": {
        "colab": {
          "base_uri": "https://localhost:8080/"
        },
        "id": "rECErARLuRvI",
        "outputId": "5ac88285-4055-4512-c882-319e6583ae70"
      },
      "execution_count": 243,
      "outputs": [
        {
          "output_type": "stream",
          "name": "stdout",
          "text": [
            "Jack of Diamonds\n"
          ]
        }
      ]
    },
    {
      "cell_type": "code",
      "source": [],
      "metadata": {
        "id": "EwL6LOOxuXtw"
      },
      "execution_count": 243,
      "outputs": []
    }
  ]
}